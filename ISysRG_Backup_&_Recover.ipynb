{
  "nbformat": 4,
  "nbformat_minor": 0,
  "metadata": {
    "colab": {
      "provenance": [],
      "collapsed_sections": [
        "1c6mr9pSpvCq",
        "bm88Kkzmsmou"
      ],
      "include_colab_link": true
    },
    "kernelspec": {
      "name": "python3",
      "display_name": "Python 3"
    },
    "language_info": {
      "name": "python"
    }
  },
  "cells": [
    {
      "cell_type": "markdown",
      "metadata": {
        "id": "view-in-github",
        "colab_type": "text"
      },
      "source": [
        "<a href=\"https://colab.research.google.com/github/ISySRGg/google-colaboratory-recovery/blob/main/ISysRG_Backup_%26_Recover.ipynb\" target=\"_parent\"><img src=\"https://colab.research.google.com/assets/colab-badge.svg\" alt=\"Open In Colab\"/></a>"
      ]
    },
    {
      "cell_type": "markdown",
      "source": [
        "# **BACKUP & RECOVER**\n"
      ],
      "metadata": {
        "id": "1c6mr9pSpvCq"
      }
    },
    {
      "cell_type": "code",
      "source": [
        "#@title #**List Available Contents**\n",
        "from google.colab import drive\n",
        "\n",
        "# GDrive Mount\n",
        "drive.mount('/drive', force_remount=True)\n",
        "\n",
        "DIREKTORI_GDRIVE = '/drive/MyDrive/konten-colab/'\n",
        "\n",
        "# List available contents\n",
        "!echo \"Available contents in directory: {DIREKTORI_GDRIVE}\"\n",
        "!ls -a {DIREKTORI_GDRIVE} | cat\n",
        "\n",
        "# GDrive Unmount\n",
        "drive.flush_and_unmount()\n"
      ],
      "metadata": {
        "colab": {
          "base_uri": "https://localhost:8080/"
        },
        "cellView": "form",
        "id": "CD1pOM_vqCkH",
        "outputId": "3d007e23-9ea7-41c8-ded3-170eb98432bf"
      },
      "execution_count": null,
      "outputs": [
        {
          "output_type": "stream",
          "name": "stdout",
          "text": [
            "Mounted at /drive\n",
            "Available contents in directory: /drive/MyDrive/konten-colab/\n",
            "1679682389_konten-ai.zip\n",
            "1679683823_konten-ai.zip\n",
            "1693385376_hello_world.zip\n"
          ]
        }
      ]
    },
    {
      "cell_type": "code",
      "execution_count": null,
      "metadata": {
        "id": "DW9GiPoZyNG0",
        "cellView": "form",
        "colab": {
          "base_uri": "https://localhost:8080/"
        },
        "outputId": "a4f63c0b-2c33-4ae5-8d7a-778a742403a1"
      },
      "outputs": [
        {
          "output_type": "stream",
          "name": "stdout",
          "text": [
            "Mounted at /drive\n",
            "  adding: content/ (stored 0%)\n",
            "  adding: content/.config/ (stored 0%)\n",
            "  adding: content/.config/configurations/ (stored 0%)\n",
            "  adding: content/.config/configurations/config_default (deflated 15%)\n",
            "  adding: content/.config/active_config (stored 0%)\n",
            "  adding: content/.config/.last_survey_prompt.yaml (stored 0%)\n",
            "  adding: content/.config/.last_opt_in_prompt.yaml (stored 0%)\n",
            "  adding: content/.config/.last_update_check.json (deflated 23%)\n",
            "  adding: content/.config/default_configs.db (deflated 98%)\n",
            "  adding: content/.config/logs/ (stored 0%)\n",
            "  adding: content/.config/logs/2023.08.24/ (stored 0%)\n",
            "  adding: content/.config/logs/2023.08.24/21.25.07.624486.log (deflated 58%)\n",
            "  adding: content/.config/logs/2023.08.24/21.25.34.842300.log (deflated 57%)\n",
            "  adding: content/.config/logs/2023.08.24/21.24.55.354132.log (deflated 86%)\n",
            "  adding: content/.config/logs/2023.08.24/21.24.28.892496.log (deflated 58%)\n",
            "  adding: content/.config/logs/2023.08.24/21.23.44.598291.log (deflated 91%)\n",
            "  adding: content/.config/logs/2023.08.24/21.25.35.723493.log (deflated 56%)\n",
            "  adding: content/.config/config_sentinel (stored 0%)\n",
            "  adding: content/.config/gce (stored 0%)\n",
            "  adding: content/.ipynb_checkpoints/ (stored 0%)\n",
            "  adding: content/hello_world.txt (stored 0%)\n",
            "Konten dicadangkan: /drive/MyDrive/konten-colab/1693385376_hello_world.zip\n"
          ]
        }
      ],
      "source": [
        "#@title #**Backup**\n",
        "from google.colab import drive\n",
        "from time import time\n",
        "\n",
        "# Environtment Setup\n",
        "NAMA_KONTEN = \"hello_world\" #@param {\"type\":\"string\"}\n",
        "DIREKTORI_GDRIVE = '/drive/MyDrive/konten-colab/'\n",
        "NAMA_FILE = f'{int(time())}_{NAMA_KONTEN}.zip'\n",
        "\n",
        "for _ in range(1):\n",
        "  if len(NAMA_KONTEN) == 0:\n",
        "    print(\"NAMA_KONTEN harus diisi!\")\n",
        "    break\n",
        "\n",
        "  # GDrive Mount\n",
        "  drive.mount('/drive', force_remount=True)\n",
        "\n",
        "  # Hapus Dataset Bawaan\n",
        "  !rm -rf /content/sample_data/ &> /dev/null\n",
        "\n",
        "  # Buat Direktori\n",
        "  !mkdir {DIREKTORI_GDRIVE} &> /dev/null\n",
        "\n",
        "  # Kompres\n",
        "  !zip -r /{NAMA_FILE} /content/\n",
        "\n",
        "  # Backing Up\n",
        "  !mv /{NAMA_FILE} {DIREKTORI_GDRIVE}\n",
        "\n",
        "  # GDrive Umount\n",
        "  drive.flush_and_unmount()\n",
        "\n",
        "  # Notify\n",
        "  print(f'Konten dicadangkan: {DIREKTORI_GDRIVE}{NAMA_FILE}')"
      ]
    },
    {
      "cell_type": "code",
      "source": [
        "#@title #**Recover (Mount)**\n",
        "\n",
        "from google.colab import drive\n",
        "\n",
        "# GDrive Mount\n",
        "drive.mount('/drive', force_remount=True)\n",
        "\n",
        "# Environtment Setup\n",
        "NAMA_KONTEN = \"hello_world\" #@param {\"type\":\"string\"}\n",
        "DIREKTORI_GDRIVE = '/drive/MyDrive/konten-colab/'\n",
        "#@markdown ---\n",
        "TIMESTAMP = None #@param [\"None\"] {type:\"raw\", allow-input: true}\n",
        "#@markdown Atur ke \"None\" untuk mendapatkan konten terbaru.\n",
        "\n",
        "# Buat Direktori di GDRIVE\n",
        "!mkdir {DIREKTORI_GDRIVE} &> /dev/null\n",
        "\n",
        "# Direktori File Sementara\n",
        "DESTINASI_FILENAME = '/tmp/nama_file'\n",
        "\n",
        "for _ in range(1): # Break jika error\n",
        "\n",
        "  # Mengambil Nama File dan Menyimpan di File Sementara\n",
        "  if TIMESTAMP is None:\n",
        "    !ls -t {DIREKTORI_GDRIVE} | grep {NAMA_KONTEN}.zip | head -1 > {DESTINASI_FILENAME}  # Membaca Isi File Sementara\n",
        "  else:\n",
        "    !ls -t {DIREKTORI_GDRIVE} | grep {TIMESTAMP}_{NAMA_KONTEN}.zip | head -1 > {DESTINASI_FILENAME}  # Membaca Isi File Sementara\n",
        "  with open(DESTINASI_FILENAME, 'r') as f:\n",
        "    NAMA_FILE = f.read().strip()\n",
        "  if len(NAMA_FILE) == 0: # Mengecek Ketersediaan Konten\n",
        "    !echo \"======NAMA KONTEN TERSEDIA======\"\n",
        "    !ls -t {DIREKTORI_GDRIVE}*.zip | sed -e 's#.*/##' -e 's/^[0-9]\\+_//;s/\\.zip$//' | sort -u\n",
        "    !echo \"================================\"\n",
        "    !echo \"Konten '{NAMA_KONTEN}' tidak ditemukan, pastikan konten tersedia dan tulis nama konten yang benar!\"\n",
        "    break\n",
        "\n",
        "  # Menghapus Konten Saat Ini\n",
        "  !rm -rf /content/*\n",
        "\n",
        "  # Memulihkan\n",
        "  !cp {DIREKTORI_GDRIVE}/{NAMA_FILE} /content/\n",
        "\n",
        "  # Mengekstrak Konten\n",
        "  !unzip /content/{NAMA_FILE} && rm -rf /content/{NAMA_FILE}\n",
        "\n",
        "  # Memindahkan Konten\n",
        "  !mv /content/content/* /content/ && rm -rf /content/content/\n",
        "\n",
        "  # Notify\n",
        "  !echo \"Konten dipulihkan: {DIREKTORI_GDRIVE}{NAMA_FILE}\"\n",
        "  if TIMESTAMP is None: TIMESTAMP = NAMA_FILE.split('_')[0]\n",
        "  !date -d @{TIMESTAMP} +'Waktu Backup: %Y/%m/%d_%H:%M:%S'\n",
        "\n",
        "# Menghapus Jejak\n",
        "!rm -rf DESTINASI_FILENAME # Menghapus Isi File Sementara\n",
        "\n",
        "# GDrive Unmount\n",
        "drive.flush_and_unmount()\n"
      ],
      "metadata": {
        "id": "q2sdo8bg_XH9",
        "cellView": "form",
        "colab": {
          "base_uri": "https://localhost:8080/"
        },
        "outputId": "a5a71df8-7233-41e1-edb2-c47022e1c848"
      },
      "execution_count": null,
      "outputs": [
        {
          "output_type": "stream",
          "name": "stdout",
          "text": [
            "Mounted at /drive\n",
            "Archive:  /content/1693385376_hello_world.zip\n",
            "   creating: content/\n",
            "   creating: content/.config/\n",
            "   creating: content/.config/configurations/\n",
            "  inflating: content/.config/configurations/config_default  \n",
            " extracting: content/.config/active_config  \n",
            " extracting: content/.config/.last_survey_prompt.yaml  \n",
            " extracting: content/.config/.last_opt_in_prompt.yaml  \n",
            "  inflating: content/.config/.last_update_check.json  \n",
            "  inflating: content/.config/default_configs.db  \n",
            "   creating: content/.config/logs/\n",
            "   creating: content/.config/logs/2023.08.24/\n",
            "  inflating: content/.config/logs/2023.08.24/21.25.07.624486.log  \n",
            "  inflating: content/.config/logs/2023.08.24/21.25.34.842300.log  \n",
            "  inflating: content/.config/logs/2023.08.24/21.24.55.354132.log  \n",
            "  inflating: content/.config/logs/2023.08.24/21.24.28.892496.log  \n",
            "  inflating: content/.config/logs/2023.08.24/21.23.44.598291.log  \n",
            "  inflating: content/.config/logs/2023.08.24/21.25.35.723493.log  \n",
            " extracting: content/.config/config_sentinel  \n",
            " extracting: content/.config/gce     \n",
            "   creating: content/.ipynb_checkpoints/\n",
            " extracting: content/hello_world.txt  \n",
            "Konten dipulihkan: /drive/MyDrive/konten-colab/1693385376_hello_world.zip\n",
            "Waktu Backup: 2023/08/30_08:49:36\n"
          ]
        }
      ]
    },
    {
      "cell_type": "code",
      "source": [
        "#@title #**Recover (Download)**\n",
        "from re import search\n",
        "\n",
        "# Environtment Setup\n",
        "DRIVE_URL = \"https://drive.google.com/file/d/1bqzf-8aveyvh2DVh8T8YIAlXa1rnjmzf/view?usp=sharing\" #@param {type:\"string\"}\n",
        "FILE_ID = DRIVE_URL\n",
        "\n",
        "# Normalisasi Link\n",
        "if 'drive.google.com' in DRIVE_URL:\n",
        "  FILE_ID = search(r'/d/([^/]+)/', DRIVE_URL).group(1)\n",
        "\n",
        "# Buat Folder Sementara\n",
        "DESTINASI_SEMENTARA = '/tmp/sementara/'\n",
        "DESTINASI_FILENAME = '/tmp/nama_file'\n",
        "!mkdir {DESTINASI_SEMENTARA} &> /dev/null\n",
        "\n",
        "# Mendownload Konten\n",
        "!gdown {FILE_ID} -O {DESTINASI_SEMENTARA}\n",
        "\n",
        "for _ in range(1): # Break jika error\n",
        "\n",
        "  # Mendapatkan Nama Konten\n",
        "  !ls {DESTINASI_SEMENTARA} > {DESTINASI_FILENAME}  # Membaca Isi File Sementara\n",
        "  with open(DESTINASI_FILENAME, 'r') as f:\n",
        "    NAMA_FILE = f.read().strip()\n",
        "  if len(NAMA_FILE) == 0:\n",
        "    !echo \"DRIVE_URL atau FILE_ID tidak valid!\"\n",
        "    !echo \"Pastikan perizinan berkas konten diatur ke 'VIEWER/PELIHAT' dan URL atau FILE_ID yang sah!\"\n",
        "    break\n",
        "\n",
        "  # Menghapus Konten Saat Ini\n",
        "  !rm -rf /content/*\n",
        "\n",
        "  # Mengekstrak Konten\n",
        "  !unzip {DESTINASI_SEMENTARA}*zip\n",
        "\n",
        "  # Memindahkan Konten\n",
        "  !mv /content/content/* /content/ && rm -rf /content/content\n",
        "\n",
        "  # Notify\n",
        "  !echo 'Konten dipulihkan: {NAMA_FILE}'\n",
        "  TIMESTAMP = NAMA_FILE.split('_')[0]\n",
        "  !date -d @{TIMESTAMP} +'Waktu Backup: %Y/%m/%d_%H:%M:%S'\n",
        "\n",
        "# Menghapus Jejak\n",
        "!rm -rf {DESTINASI_FILENAME} &> /dev/null\n",
        "!rm -rf {DESTINASI_SEMENTARA} &> /dev/null"
      ],
      "metadata": {
        "cellView": "form",
        "id": "TZ5gDWw7Y8lx",
        "colab": {
          "base_uri": "https://localhost:8080/"
        },
        "outputId": "695831ba-fcfa-4729-bd67-06f6e4acd86d"
      },
      "execution_count": null,
      "outputs": [
        {
          "output_type": "stream",
          "name": "stdout",
          "text": [
            "Downloading...\n",
            "From: https://drive.google.com/uc?id=1bqzf-8aveyvh2DVh8T8YIAlXa1rnjmzf\n",
            "To: /tmp/sementara/1693385376_hello_world.zip\n",
            "\r  0% 0.00/10.8k [00:00<?, ?B/s]\r100% 10.8k/10.8k [00:00<00:00, 28.8MB/s]\n",
            "Archive:  /tmp/sementara/1693385376_hello_world.zip\n",
            "   creating: content/\n",
            "   creating: content/.config/\n",
            "   creating: content/.config/configurations/\n",
            "  inflating: content/.config/configurations/config_default  \n",
            " extracting: content/.config/active_config  \n",
            " extracting: content/.config/.last_survey_prompt.yaml  \n",
            " extracting: content/.config/.last_opt_in_prompt.yaml  \n",
            "  inflating: content/.config/.last_update_check.json  \n",
            "  inflating: content/.config/default_configs.db  \n",
            "   creating: content/.config/logs/\n",
            "   creating: content/.config/logs/2023.08.24/\n",
            "  inflating: content/.config/logs/2023.08.24/21.25.07.624486.log  \n",
            "  inflating: content/.config/logs/2023.08.24/21.25.34.842300.log  \n",
            "  inflating: content/.config/logs/2023.08.24/21.24.55.354132.log  \n",
            "  inflating: content/.config/logs/2023.08.24/21.24.28.892496.log  \n",
            "  inflating: content/.config/logs/2023.08.24/21.23.44.598291.log  \n",
            "  inflating: content/.config/logs/2023.08.24/21.25.35.723493.log  \n",
            " extracting: content/.config/config_sentinel  \n",
            " extracting: content/.config/gce     \n",
            "   creating: content/.ipynb_checkpoints/\n",
            " extracting: content/hello_world.txt  \n",
            "Konten dipulihkan: 1693385376_hello_world.zip\n",
            "Waktu Backup: 2023/08/30_08:49:36\n"
          ]
        }
      ]
    },
    {
      "cell_type": "markdown",
      "source": [
        "## **Doc**"
      ],
      "metadata": {
        "id": "bm88Kkzmsmou"
      }
    },
    {
      "cell_type": "markdown",
      "source": [
        "* **Backup:**: Menyimpan data konten kolab seperti *file*, *folder*, *dataset*, proses kerja serta *environtment* yang tersimpan di `/content/` ke Google Drive mengingat colab memiliki batasan waktu penggunaan sehingga proses kerja perlu disimpan agar dapat dipulihkan kembali seperti awal di lain waktu. Konten disimpan dalam format `timestamp_nama-konten.zip` di folder `drive/MyDrive/konten-colab/`.\n",
        "\n",
        "* **Recover:** mendapatkan kembali konten colab yang sudah pernah dilakukan *Backup*. **Recover (Download)** dianjurkan karena kolaborator lain bisa mendapatkan konten yang sama persis tanpa kerumitan yang hanya bermodalkan **File ID/Link**. Sedangkan **Recover (Mount)** membutuhkan akses Google Drive individu pengguna yang sulit untuk dilakukan berbagi konten yang sama terhadap kolaborator lain.\n",
        "\n",
        "* **Parameter:**\n",
        "\n",
        "  * **Backup:**\n",
        "     * `NAMA_KONTEN` (string): Nama konten yang akan dicadangkan, misal nama proyek itu sendiri seperti `konten-denoising-sinyal-dengan-deepfilter`.\n",
        "  * **Recover (Download):**\n",
        "    * `DRIVE_URL` (url/file_id): URL Drive adalah URL konten yang bisa didapatkan di Google Drive pada *folder* `konten-colab` yang izin akses berbagi salah satu konten yang berekstensi `.zip` diatur ke **VIEWER/PELIHAT**. Contoh: https://drive.google.com/file/d/1--TzljYyMx6raakUwNh78ngHqriUEd9g/view?usp=share_link atau cukup memasukkan ID-nya saja seperti `1--TzljYyMx6raakUwNh78ngHqriUEd9g`.\n",
        "  * **Recover (Mount):**\n",
        "      * `NAMA_KONTEN` (string): Nama konten yang akan dipulihkan. Nama konten harus tersedia di *folder* `konten-colab`. Jika tidak, maka *output* akan menampilkan nama-nama konten yang tersedia.\n",
        "      * `TIMESTAMP` (None/integer): *Timestamp* dapat dilihat langsung di Google Drive pada *folder* `konten-colab` atau atur ke `None` jika ingin mendapatkan konten kolab terbaru pada sebuah konten.\n",
        "\n",
        "\n",
        "By MIP"
      ],
      "metadata": {
        "id": "yPD6Zpcy2IFu"
      }
    }
  ]
}